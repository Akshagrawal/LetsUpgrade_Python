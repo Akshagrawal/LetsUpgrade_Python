{
 "cells": [
  {
   "cell_type": "code",
   "execution_count": 1,
   "metadata": {},
   "outputs": [
    {
     "name": "stdout",
     "output_type": "stream",
     "text": [
      "{1: 'a', 2: 'b', 3: 'c', 4: 'd', 5: 'e'}\n"
     ]
    }
   ],
   "source": [
    "#Take two lists as input list1 = [1,2,3,4,5] and list2 = [\"a\", \"b\", \"c\", \"d\", \"e\"] \n",
    "#From that make a dictionary ouput {1:\"a\", 2:\"b\", 3:\"c\", 4:\"d\", 5:\"e\"}\n",
    "\n",
    "list1 = [1,2,3,4,5]\n",
    "list2 = [\"a\",\"b\",\"c\",\"d\",\"e\"]\n",
    "dictionary = dict(zip(list1, list2))\n",
    "print(dictionary)"
   ]
  },
  {
   "cell_type": "code",
   "execution_count": null,
   "metadata": {},
   "outputs": [],
   "source": [
    "# Python program to merge two files into a third file.\n",
    "data = data2 = \"\" \n",
    "  \n",
    "# Reading data from file1 \n",
    "with open('G://assignment//python//file1.txt') as fp: \n",
    "    data = fp.read() \n",
    "  \n",
    "# Reading data from file2 \n",
    "with open('G://assignment//python//file2.txt') as fp: \n",
    "    data2 = fp.read() \n",
    "  \n",
    "# Merging 2 files \n",
    "# To add the data of file2 from next line \n",
    "data += \"\\n\"\n",
    "data += data2 \n",
    "  \n",
    "with open ('G://assignment//python//file3.txt', 'w') as fp: \n",
    "    fp.write(data)"
   ]
  }
 ],
 "metadata": {
  "kernelspec": {
   "display_name": "Python 3",
   "language": "python",
   "name": "python3"
  },
  "language_info": {
   "codemirror_mode": {
    "name": "ipython",
    "version": 3
   },
   "file_extension": ".py",
   "mimetype": "text/x-python",
   "name": "python",
   "nbconvert_exporter": "python",
   "pygments_lexer": "ipython3",
   "version": "3.7.6"
  }
 },
 "nbformat": 4,
 "nbformat_minor": 4
}
